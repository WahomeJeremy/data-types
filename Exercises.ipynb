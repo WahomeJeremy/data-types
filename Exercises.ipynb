{
 "cells": [
  {
   "cell_type": "markdown",
   "id": "e48b6690",
   "metadata": {},
   "source": [
    "Write a program that generates a random number between 1 and 100. The user has to guess the number in a limited number of attempts. Provide feedback after each guess (higher, lower, or correct)."
   ]
  },
  {
   "cell_type": "code",
   "execution_count": null,
   "id": "7d89fc6a",
   "metadata": {},
   "outputs": [
    {
     "name": "stdout",
     "output_type": "stream",
     "text": [
      "Guess the number (1-100)! You have 10 tries.\n",
      "Too high!\n",
      "Too low!\n",
      "Too low!\n",
      "Too high!\n",
      "Correct! You guessed it!\n"
     ]
    }
   ],
   "source": [
    "import random\n",
    "\n",
    "number = random.randint(1, 100)\n",
    "attempts = 10  \n",
    "\n",
    "print(\"Guess the number (1-100)! You have\", attempts, \"tries.\")\n",
    "\n",
    "while attempts > 0:\n",
    "    guess = int(input(\"Enter your guess: \"))\n",
    "    \n",
    "    if guess == number:\n",
    "        print(\"Correct You guessed it!\")\n",
    "        break\n",
    "    elif guess < number:\n",
    "        print(\"Too low\")\n",
    "    else:\n",
    "        print(\"Too high\")\n",
    "    \n",
    "    attempts -= 1\n",
    "\n",
    "if attempts == 0:\n",
    "    print(\"Out of tries. The number was:\", number)\n"
   ]
  },
  {
   "cell_type": "markdown",
   "id": "62b798f0",
   "metadata": {},
   "source": [
    "Write a program that allows the user to enter two numbers and an operator (+, -, *, /) and perform the corresponding calculation. Use conditional statements to handle different operators"
   ]
  },
  {
   "cell_type": "code",
   "execution_count": null,
   "id": "8d4c5e02",
   "metadata": {},
   "outputs": [
    {
     "name": "stdout",
     "output_type": "stream",
     "text": [
      "Result: 300.0\n"
     ]
    }
   ],
   "source": [
    "num1 = float(input(\"Enter first number: \"))\n",
    "operator = input(\"Enter operator (+, -, *, /): \")\n",
    "num2 = float(input(\"Enter second number: \"))\n",
    "\n",
    "if operator == '+':\n",
    "    print(num1 + num2)\n",
    "elif operator == '-':\n",
    "    print(num1 - num2)\n",
    "elif operator == '*':\n",
    "    print(num1 * num2)\n",
    "elif operator == '/':\n",
    "    if num2 != 0:\n",
    "        print(num1 / num2)\n",
    "    else:\n",
    "        print(\" Cannot divide by zero.\")\n",
    "else:\n",
    "    print(\"Invalid operator.\")\n"
   ]
  },
  {
   "cell_type": "markdown",
   "id": "e9a07cff",
   "metadata": {},
   "source": [
    "Write a program that uses a while loop to check if a number entered by the user is a prime number (divisible only by 1 and itself)."
   ]
  },
  {
   "cell_type": "code",
   "execution_count": null,
   "id": "79b661ca",
   "metadata": {},
   "outputs": [],
   "source": [
    "num = int(input(\"Enter a number: \"))\n",
    "\n",
    "if num < 2:\n",
    "    print(\"Not a prime number.\")\n",
    "else:\n",
    "    i = 2\n",
    "    is_prime = True\n",
    "\n",
    "    while i <= num // 2:\n",
    "        if num % i == 0:\n",
    "            is_prime = False\n",
    "            break\n",
    "        i += 1\n",
    "\n",
    "    if is_prime:\n",
    "        print(\"Prime number.\")\n",
    "    else:\n",
    "        print(\"Not a prime number.\")\n",
    "\n"
   ]
  },
  {
   "cell_type": "markdown",
   "id": "222d17f6",
   "metadata": {},
   "source": [
    "Write a program that uses a for loop to print the multiplication table of a number entered by the user (up to a specified number of multiples)."
   ]
  },
  {
   "cell_type": "code",
   "execution_count": null,
   "id": "ab5193ca",
   "metadata": {},
   "outputs": [],
   "source": [
    "num = int(input(\"Enter a number: \"))\n",
    "limit = int(input(\"How many multiples? \"))\n",
    "\n",
    "print(f\" Multiplication Table of {num}:\")\n",
    "\n",
    "for i in range(1, limit + 1):\n",
    "    print(f\"{num} x {i} = {num * i}\")\n"
   ]
  }
 ],
 "metadata": {
  "kernelspec": {
   "display_name": "virtual",
   "language": "python",
   "name": "python3"
  },
  "language_info": {
   "codemirror_mode": {
    "name": "ipython",
    "version": 3
   },
   "file_extension": ".py",
   "mimetype": "text/x-python",
   "name": "python",
   "nbconvert_exporter": "python",
   "pygments_lexer": "ipython3",
   "version": "3.13.2"
  }
 },
 "nbformat": 4,
 "nbformat_minor": 5
}
