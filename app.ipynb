{
 "cells": [
  {
   "cell_type": "code",
   "execution_count": null,
   "id": "5ce79b8a",
   "metadata": {},
   "outputs": [
    {
     "name": "stdout",
     "output_type": "stream",
     "text": [
      "13\n",
      "30\n",
      "7\n",
      "3.3333333333333335\n",
      "3\n",
      "1\n",
      "1000\n",
      "8.0\n",
      "3.141592653589793\n",
      "3\n",
      "4\n",
      "27.0\n",
      "1.41\n",
      "3.142\n",
      "1.4142135623730951\n"
     ]
    }
   ],
   "source": [
    "import math\n",
    "\n",
    "a = 10\n",
    "b = 3 \n",
    "\n",
    "print(a + b)\n",
    "print(a * b)\n",
    "print(a - b)\n",
    "print(a / b)\n",
    "print(a // b)\n",
    "print(a % b)\n",
    "print(a ** b)\n",
    "\n",
    "print(math.sqrt(64))\n",
    "print(math.pi)\n",
    "print(math.floor(3.941592653589793))\n",
    "print(math.ceil(3.1))\n",
    "print(math.pow(3, 3))\n",
    "\n",
    "print(math.sqrt(2).__round__(2))\n",
    "print(round(3.141592653589793, 3))\n",
    "print(round(math.sqrt(2), 6))\n",
    "\n"
   ]
  },
  {
   "cell_type": "code",
   "execution_count": 3,
   "id": "d4e0fb34",
   "metadata": {},
   "outputs": [
    {
     "name": "stdout",
     "output_type": "stream",
     "text": [
      "15.0\n"
     ]
    }
   ],
   "source": [
    "num1 = float (input('Enter first number: '))\n",
    "num2 =  float (input('Enter second number: '))\n",
    "\n",
    "sum = num1 + num2\n",
    "print(sum)"
   ]
  },
  {
   "cell_type": "code",
   "execution_count": 6,
   "id": "d353090e",
   "metadata": {},
   "outputs": [
    {
     "name": "stdout",
     "output_type": "stream",
     "text": [
      "Wahome Jeremy\n"
     ]
    }
   ],
   "source": [
    "name1 = input('Enter first name')\n",
    "name2 = input('Enter second name')\n",
    " \n",
    "full_name = name1 + ' ' + name2\n",
    "print(full_name)"
   ]
  },
  {
   "cell_type": "code",
   "execution_count": 17,
   "id": "be94ce43",
   "metadata": {},
   "outputs": [
    {
     "name": "stdout",
     "output_type": "stream",
     "text": [
      "WAHOME\n",
      "alvin\n",
      "True\n",
      "False\n",
      "True\n",
      "red blue green yellow\n",
      "Wahome is 20 years old.\n"
     ]
    }
   ],
   "source": [
    "a = 'Wahome'\n",
    "print(a.upper())\n",
    "\n",
    "b = 'Alvin'\n",
    "print(b.lower())\n",
    "\n",
    "c = '12ab'\n",
    "d = \" \"\n",
    "print(c.isalnum())\n",
    "print(c.isalpha())\n",
    "print(d.isspace())\n",
    "\n",
    "\n",
    "colors = \"red,blue,green,yellow\" .split(\",\")\n",
    "joined = \" \".join(colors)\n",
    "print(joined)\n",
    "\n",
    "name = input(\"Enter your name: \")\n",
    "age = int(input(\"Enter your age: \"))\n",
    "\n",
    "print(f\"{name} is {age} years old.\")\n",
    "\n",
    "\n",
    "\n",
    "\n",
    "\n",
    "\n"
   ]
  },
  {
   "cell_type": "code",
   "execution_count": 24,
   "id": "e91d5fe8",
   "metadata": {},
   "outputs": [
    {
     "name": "stdout",
     "output_type": "stream",
     "text": [
      "Hello there, \n",
      "\"How are you?\"\n"
     ]
    }
   ],
   "source": [
    "s = \"Hello there, \\n\\\"How are you?\\\"\"\n",
    "print(s)"
   ]
  },
  {
   "cell_type": "code",
   "execution_count": 32,
   "id": "e3f1d5f6",
   "metadata": {},
   "outputs": [
    {
     "name": "stdout",
     "output_type": "stream",
     "text": [
      "116000.0\n",
      "Hello Wahome\n"
     ]
    }
   ],
   "source": [
    "str1 = \"Hello\"\n",
    "name = input(\"Enter your name: \")\n",
    "hours = float(input('Enter hours worked: '))\n",
    "rate =  float(input('Enter rate : '))\n",
    "\n",
    "pay = (hours * rate)\n",
    "print(pay)\n",
    "\n",
    "\n",
    "\n",
    "\n",
    "print(f\"{str1} {name}\")\n"
   ]
  },
  {
   "cell_type": "code",
   "execution_count": 33,
   "id": "3d37a864",
   "metadata": {},
   "outputs": [
    {
     "name": "stdout",
     "output_type": "stream",
     "text": [
      "<class 'int'>\n"
     ]
    }
   ],
   "source": [
    "width = 17\n",
    "height = 12.0\n",
    "\n",
    "print(type(width))\n"
   ]
  },
  {
   "cell_type": "code",
   "execution_count": 39,
   "id": "ffe631b2",
   "metadata": {},
   "outputs": [
    {
     "name": "stdout",
     "output_type": "stream",
     "text": [
      "You are an adult\n"
     ]
    }
   ],
   "source": [
    "age = 20 \n",
    "if age < 13:\n",
    "    print(\"You are a child\")\n",
    "elif age < 20:\n",
    "    print(\"You are a teenager\")\n",
    "else:\n",
    "    print(\"You are an adult\")\n",
    "\n"
   ]
  },
  {
   "cell_type": "code",
   "execution_count": 42,
   "id": "8380ce1f",
   "metadata": {},
   "outputs": [
    {
     "name": "stdout",
     "output_type": "stream",
     "text": [
      "0\n",
      "1\n",
      "2\n",
      "3\n",
      "4\n",
      "money\n",
      "money\n",
      "money\n",
      "money\n",
      "money\n",
      "money\n",
      "money\n",
      "money\n"
     ]
    }
   ],
   "source": [
    "for i in range(5):\n",
    "    print(i)\n",
    "\n",
    "n = int(input(\"How many times to say money\"))\n",
    "for i in range (n):\n",
    "    print(\"money\")\n",
    "\n"
   ]
  },
  {
   "cell_type": "code",
   "execution_count": 44,
   "id": "e93a5d1e",
   "metadata": {},
   "outputs": [
    {
     "name": "stdout",
     "output_type": "stream",
     "text": [
      "Access granted\n"
     ]
    }
   ],
   "source": [
    "password = \"\"\n",
    "while password != \"pass123#\":\n",
    "    password = input(\"Enter password: \")\n",
    "\n",
    "print(\"Access granted\")\n"
   ]
  }
 ],
 "metadata": {
  "kernelspec": {
   "display_name": "virtual",
   "language": "python",
   "name": "python3"
  },
  "language_info": {
   "codemirror_mode": {
    "name": "ipython",
    "version": 3
   },
   "file_extension": ".py",
   "mimetype": "text/x-python",
   "name": "python",
   "nbconvert_exporter": "python",
   "pygments_lexer": "ipython3",
   "version": "3.13.2"
  }
 },
 "nbformat": 4,
 "nbformat_minor": 5
}
