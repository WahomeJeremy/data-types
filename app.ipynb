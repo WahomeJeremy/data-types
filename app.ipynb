{
 "cells": [
  {
   "cell_type": "code",
   "execution_count": null,
   "id": "5ce79b8a",
   "metadata": {},
   "outputs": [
    {
     "name": "stdout",
     "output_type": "stream",
     "text": [
      "13\n",
      "30\n",
      "7\n",
      "3.3333333333333335\n",
      "3\n",
      "1\n",
      "1000\n",
      "8.0\n",
      "3.141592653589793\n",
      "3\n",
      "4\n",
      "27.0\n",
      "1.41\n",
      "3.142\n",
      "1.4142135623730951\n"
     ]
    }
   ],
   "source": [
    "import math\n",
    "\n",
    "a = 10\n",
    "b = 3 \n",
    "\n",
    "print(a + b)\n",
    "print(a * b)\n",
    "print(a - b)\n",
    "print(a / b)\n",
    "print(a // b)\n",
    "print(a % b)\n",
    "print(a ** b)\n",
    "\n",
    "print(math.sqrt(64))\n",
    "print(math.pi)\n",
    "print(math.floor(3.941592653589793))\n",
    "print(math.ceil(3.1))\n",
    "print(math.pow(3, 3))\n",
    "\n",
    "print(math.sqrt(2).__round__(2))\n",
    "print(round(3.141592653589793, 3))\n",
    "print(round(math.sqrt(2), 6))\n",
    "\n"
   ]
  },
  {
   "cell_type": "code",
   "execution_count": 3,
   "id": "d4e0fb34",
   "metadata": {},
   "outputs": [
    {
     "name": "stdout",
     "output_type": "stream",
     "text": [
      "15.0\n"
     ]
    }
   ],
   "source": [
    "num1 = float (input('Enter first number: '))\n",
    "num2 =  float (input('Enter second number: '))\n",
    "\n",
    "sum = num1 + num2\n",
    "print(sum)"
   ]
  },
  {
   "cell_type": "code",
   "execution_count": 6,
   "id": "d353090e",
   "metadata": {},
   "outputs": [
    {
     "name": "stdout",
     "output_type": "stream",
     "text": [
      "Wahome Jeremy\n"
     ]
    }
   ],
   "source": [
    "name1 = input('Enter first name')\n",
    "name2 = input('Enter second name')\n",
    " \n",
    "full_name = name1 + ' ' + name2\n",
    "print(full_name)"
   ]
  },
  {
   "cell_type": "code",
   "execution_count": 17,
   "id": "be94ce43",
   "metadata": {},
   "outputs": [
    {
     "name": "stdout",
     "output_type": "stream",
     "text": [
      "WAHOME\n",
      "alvin\n",
      "True\n",
      "False\n",
      "True\n",
      "red blue green yellow\n",
      "Wahome is 20 years old.\n"
     ]
    }
   ],
   "source": [
    "a = 'Wahome'\n",
    "print(a.upper())\n",
    "\n",
    "b = 'Alvin'\n",
    "print(b.lower())\n",
    "\n",
    "c = '12ab'\n",
    "d = \" \"\n",
    "print(c.isalnum())\n",
    "print(c.isalpha())\n",
    "print(d.isspace())\n",
    "\n",
    "\n",
    "colors = \"red,blue,green,yellow\" .split(\",\")\n",
    "joined = \" \".join(colors)\n",
    "print(joined)\n",
    "\n",
    "name = input(\"Enter your name: \")\n",
    "age = int(input(\"Enter your age: \"))\n",
    "\n",
    "print(f\"{name} is {age} years old.\")\n",
    "\n",
    "\n",
    "\n",
    "\n",
    "\n",
    "\n"
   ]
  },
  {
   "cell_type": "code",
   "execution_count": 24,
   "id": "e91d5fe8",
   "metadata": {},
   "outputs": [
    {
     "name": "stdout",
     "output_type": "stream",
     "text": [
      "Hello there, \n",
      "\"How are you?\"\n"
     ]
    }
   ],
   "source": [
    "s = \"Hello there, \\n\\\"How are you?\\\"\"\n",
    "print(s)"
   ]
  },
  {
   "cell_type": "code",
   "execution_count": 32,
   "id": "e3f1d5f6",
   "metadata": {},
   "outputs": [
    {
     "name": "stdout",
     "output_type": "stream",
     "text": [
      "116000.0\n",
      "Hello Wahome\n"
     ]
    }
   ],
   "source": [
    "str1 = \"Hello\"\n",
    "name = input(\"Enter your name: \")\n",
    "hours = float(input('Enter hours worked: '))\n",
    "rate =  float(input('Enter rate : '))\n",
    "\n",
    "pay = (hours * rate)\n",
    "print(pay)\n",
    "\n",
    "\n",
    "\n",
    "\n",
    "print(f\"{str1} {name}\")\n"
   ]
  },
  {
   "cell_type": "code",
   "execution_count": 33,
   "id": "3d37a864",
   "metadata": {},
   "outputs": [
    {
     "name": "stdout",
     "output_type": "stream",
     "text": [
      "<class 'int'>\n"
     ]
    }
   ],
   "source": [
    "width = 17\n",
    "height = 12.0\n",
    "\n",
    "print(type(width))\n"
   ]
  },
  {
   "cell_type": "code",
   "execution_count": 39,
   "id": "ffe631b2",
   "metadata": {},
   "outputs": [
    {
     "name": "stdout",
     "output_type": "stream",
     "text": [
      "You are an adult\n"
     ]
    }
   ],
   "source": [
    "age = 20 \n",
    "if age < 13:\n",
    "    print(\"You are a child\")\n",
    "elif age < 20:\n",
    "    print(\"You are a teenager\")\n",
    "else:\n",
    "    print(\"You are an adult\")\n",
    "\n"
   ]
  },
  {
   "cell_type": "code",
   "execution_count": 42,
   "id": "8380ce1f",
   "metadata": {},
   "outputs": [
    {
     "name": "stdout",
     "output_type": "stream",
     "text": [
      "0\n",
      "1\n",
      "2\n",
      "3\n",
      "4\n",
      "money\n",
      "money\n",
      "money\n",
      "money\n",
      "money\n",
      "money\n",
      "money\n",
      "money\n"
     ]
    }
   ],
   "source": [
    "for i in range(5):\n",
    "    print(i)\n",
    "\n",
    "n = int(input(\"How many times to say money\"))\n",
    "for i in range (n):\n",
    "    print(\"money\")\n",
    "\n"
   ]
  },
  {
   "cell_type": "code",
   "execution_count": 44,
   "id": "e93a5d1e",
   "metadata": {},
   "outputs": [
    {
     "name": "stdout",
     "output_type": "stream",
     "text": [
      "Access granted\n"
     ]
    }
   ],
   "source": [
    "password = \"\"\n",
    "while password != \"pass123#\":\n",
    "    password = input(\"Enter password: \")\n",
    "\n",
    "print(\"Access granted\")\n"
   ]
  },
  {
   "cell_type": "markdown",
   "id": "54e1e73c",
   "metadata": {},
   "source": [
    "Functions"
   ]
  },
  {
   "cell_type": "code",
   "execution_count": 1,
   "id": "a69fb72f",
   "metadata": {},
   "outputs": [
    {
     "name": "stdout",
     "output_type": "stream",
     "text": [
      "Hello, world!\n",
      "Hello, world!\n",
      "Hello, world!\n",
      "Hello, world!\n"
     ]
    }
   ],
   "source": [
    "def greet():\n",
    "    print(\"Hello, world!\")\n",
    "greet()\n",
    "greet()\n",
    "greet()\n",
    "greet()"
   ]
  },
  {
   "cell_type": "code",
   "execution_count": 3,
   "id": "144f84be",
   "metadata": {},
   "outputs": [
    {
     "name": "stdout",
     "output_type": "stream",
     "text": [
      "Hello, John\n",
      "Hello, Guest\n"
     ]
    }
   ],
   "source": [
    "def greeting(name=\"Guest\"):\n",
    "    print(f\"Hello, {name}\")\n",
    "\n",
    "greeting(\"John\")\n",
    "greeting()\n"
   ]
  },
  {
   "cell_type": "code",
   "execution_count": 8,
   "id": "aef0720c",
   "metadata": {},
   "outputs": [
    {
     "name": "stdout",
     "output_type": "stream",
     "text": [
      "Hello, Odogwo\n",
      "Hello, Guest\n"
     ]
    }
   ],
   "source": [
    "def greeting(name=\"Guest\"):\n",
    "    print(f\"Hello, {name}\")\n",
    "\n",
    "name = input(\"What is your name? \")\n",
    "greeting(name)\n",
    "greeting()"
   ]
  },
  {
   "cell_type": "code",
   "execution_count": 9,
   "id": "c7afa73b",
   "metadata": {},
   "outputs": [
    {
     "name": "stdout",
     "output_type": "stream",
     "text": [
      "Sum: 9\n"
     ]
    }
   ],
   "source": [
    "def add(num1, num2):\n",
    "    return num1 + num2\n",
    "sum = add(3, 6)\n",
    "print(\"Sum:\", sum)"
   ]
  },
  {
   "cell_type": "code",
   "execution_count": 10,
   "id": "221096cb",
   "metadata": {},
   "outputs": [
    {
     "name": "stdout",
     "output_type": "stream",
     "text": [
      "Bob is 50 years old.\n",
      "Jane is 40 years old.\n"
     ]
    }
   ],
   "source": [
    "def account(name, age):\n",
    "    print(f\"{name} is {age} years old.\")\n",
    "\n",
    "account(\"Bob\", 50)\n",
    "account(age=40, name=\"Jane\")\n"
   ]
  },
  {
   "cell_type": "code",
   "execution_count": 11,
   "id": "f02e74f8",
   "metadata": {},
   "outputs": [
    {
     "ename": "TypeError",
     "evalue": "'int' object is not callable",
     "output_type": "error",
     "traceback": [
      "\u001b[31m---------------------------------------------------------------------------\u001b[39m",
      "\u001b[31mTypeError\u001b[39m                                 Traceback (most recent call last)",
      "\u001b[36mCell\u001b[39m\u001b[36m \u001b[39m\u001b[32mIn[11]\u001b[39m\u001b[32m, line 3\u001b[39m\n\u001b[32m      1\u001b[39m \u001b[38;5;28;01mdef\u001b[39;00m\u001b[38;5;250m \u001b[39m\u001b[34msum_of_numbers\u001b[39m(*numbers):\n\u001b[32m      2\u001b[39m     \u001b[38;5;28mprint\u001b[39m(\u001b[33m\"\u001b[39m\u001b[33msum is:\u001b[39m\u001b[33m\"\u001b[39m, \u001b[38;5;28msum\u001b[39m(numbers))\n\u001b[32m----> \u001b[39m\u001b[32m3\u001b[39m \u001b[43msum_of_numbers\u001b[49m\u001b[43m(\u001b[49m\u001b[32;43m2\u001b[39;49m\u001b[43m,\u001b[49m\u001b[43m \u001b[49m\u001b[32;43m3\u001b[39;49m\u001b[43m,\u001b[49m\u001b[43m \u001b[49m\u001b[32;43m4\u001b[39;49m\u001b[43m)\u001b[49m\n",
      "\u001b[36mCell\u001b[39m\u001b[36m \u001b[39m\u001b[32mIn[11]\u001b[39m\u001b[32m, line 2\u001b[39m, in \u001b[36msum_of_numbers\u001b[39m\u001b[34m(*numbers)\u001b[39m\n\u001b[32m      1\u001b[39m \u001b[38;5;28;01mdef\u001b[39;00m\u001b[38;5;250m \u001b[39m\u001b[34msum_of_numbers\u001b[39m(*numbers):\n\u001b[32m----> \u001b[39m\u001b[32m2\u001b[39m     \u001b[38;5;28mprint\u001b[39m(\u001b[33m\"\u001b[39m\u001b[33msum is:\u001b[39m\u001b[33m\"\u001b[39m, \u001b[38;5;28;43msum\u001b[39;49m\u001b[43m(\u001b[49m\u001b[43mnumbers\u001b[49m\u001b[43m)\u001b[49m)\n",
      "\u001b[31mTypeError\u001b[39m: 'int' object is not callable"
     ]
    }
   ],
   "source": [
    "def sum_of_numbers(*numbers):\n",
    "    print(\"sum is:\", sum(numbers))\n",
    "sum_of_numbers(2, 3, 4)"
   ]
  },
  {
   "cell_type": "markdown",
   "id": "4f12144f",
   "metadata": {},
   "source": [
    "KWAGS\n"
   ]
  },
  {
   "cell_type": "code",
   "execution_count": 12,
   "id": "8c0bd48d",
   "metadata": {},
   "outputs": [
    {
     "name": "stdout",
     "output_type": "stream",
     "text": [
      "name: Jane \n",
      "gender: female \n",
      "age: 26 \n",
      "city: Nairobi \n"
     ]
    }
   ],
   "source": [
    "def print_info(**info):\n",
    "    for key, value in info .items():\n",
    "        print(f\"{key}: {value} \")\n",
    "\n",
    "print_info(name=\"Jane\", gender=\"female\", age=26, city=\"Nairobi\")"
   ]
  },
  {
   "cell_type": "code",
   "execution_count": null,
   "id": "e06a2e74",
   "metadata": {},
   "outputs": [
    {
     "name": "stdout",
     "output_type": "stream",
     "text": [
      "36\n",
      "64\n",
      "True\n",
      "False\n"
     ]
    }
   ],
   "source": [
    "square = lambda x: x * x\n",
    "print(square(6))\n",
    "\n",
    "multiply = lambda a, b: a * b \n",
    "print(multiply(8, 8))\n",
    "\n",
    "is_even = lambda x: x % 2 == 0\n",
    "print(is_even(2))\n",
    "print(is_even(3))\n"
   ]
  },
  {
   "cell_type": "code",
   "execution_count": 16,
   "id": "6ee155c0",
   "metadata": {},
   "outputs": [
    {
     "name": "stdout",
     "output_type": "stream",
     "text": [
      "square of 8 is 64\n"
     ]
    }
   ],
   "source": [
    "def square(x):\n",
    "    return x * x \n",
    "\n",
    "def display_square(n):\n",
    "    result = square(n)\n",
    "    print(f\"square of {n} is {result}\")\n",
    "\n",
    "display_square(8)"
   ]
  },
  {
   "cell_type": "code",
   "execution_count": null,
   "id": "eadbb657",
   "metadata": {},
   "outputs": [],
   "source": [
    "def add(a, b):\n",
    "    return a + b\n",
    "\n",
    "def add(a, b):\n",
    "    return a - b\n",
    "\n",
    "def add(a, b):\n",
    "    return a * b\n",
    "\n",
    "def add(a, b):\n",
    "    return a / b if b != 0 else \"Cannot divide by zero\"\n",
    "\n",
    "a = float(input(\"Enter first number: \"))\n",
    "b = float(input(\"Enter second number: \"))\n",
    "op = input(\"Choose operation (+, -, *, /)\")\n",
    "\n",
    "if op == \"+\":\n",
    "    print(\"Result: \", add(a, b))\n",
    "\n",
    "elif op == \"-\":\n",
    "    print(\"Result: \", sub(a, b))\n",
    "\n",
    "elif op == \"*\":\n",
    "    print(\"Result: \", mul(a, b))\n",
    "\n",
    "elif op == \"/\":\n",
    "    print(\"Result: \", div(a, b))\n",
    "\n",
    "\n",
    "\n",
    "\n",
    "\n",
    "\n"
   ]
  },
  {
   "cell_type": "code",
   "execution_count": 17,
   "id": "4211f2b1",
   "metadata": {},
   "outputs": [
    {
     "name": "stdout",
     "output_type": "stream",
     "text": [
      "Line count: 1909\n"
     ]
    }
   ],
   "source": [
    "fhand = open('mbox_short.txt')\n",
    "\n",
    "count = 0\n",
    "\n",
    "for line in fhand:\n",
    "    count = count + 1\n",
    "\n",
    "print(\"Line count:\", count)\n",
    "\n",
    "\n"
   ]
  },
  {
   "cell_type": "code",
   "execution_count": 20,
   "id": "80c5d07c",
   "metadata": {},
   "outputs": [
    {
     "name": "stdout",
     "output_type": "stream",
     "text": [
      "94625\n",
      "From stephen.marquard@uct.ac.za Sat Jan  5 09:14:16 2008\n",
      "Return-Path: <postmaster@collab.sakaiproject.org>\n",
      "Received: from murder (mail.umich.edu [141.211.14.90])\n",
      "\t by frankenstein.mail.umich.edu (Cyru\n"
     ]
    }
   ],
   "source": [
    "fhand = open(\"mbox_short.txt\")\n",
    "inp = fhand.read()\n",
    "print(len(inp))\n",
    "print(inp[:200])\n",
    "\n"
   ]
  },
  {
   "cell_type": "code",
   "execution_count": null,
   "id": "7e89ac55",
   "metadata": {},
   "outputs": [
    {
     "name": "stdout",
     "output_type": "stream",
     "text": [
      "From: stephen.marquard@uct.ac.za\n",
      "\n",
      "From: louis@media.berkeley.edu\n",
      "\n",
      "From: zqian@umich.edu\n",
      "\n",
      "From: rjlowe@iupui.edu\n",
      "\n",
      "From: zqian@umich.edu\n",
      "\n",
      "From: rjlowe@iupui.edu\n",
      "\n",
      "From: cwen@iupui.edu\n",
      "\n",
      "From: cwen@iupui.edu\n",
      "\n",
      "From: gsilver@umich.edu\n",
      "\n",
      "From: gsilver@umich.edu\n",
      "\n",
      "From: zqian@umich.edu\n",
      "\n",
      "From: gsilver@umich.edu\n",
      "\n",
      "From: wagnermr@iupui.edu\n",
      "\n",
      "From: zqian@umich.edu\n",
      "\n",
      "From: antranig@caret.cam.ac.uk\n",
      "\n",
      "From: gopal.ramasammycook@gmail.com\n",
      "\n",
      "From: david.horwitz@uct.ac.za\n",
      "\n",
      "From: david.horwitz@uct.ac.za\n",
      "\n",
      "From: david.horwitz@uct.ac.za\n",
      "\n",
      "From: david.horwitz@uct.ac.za\n",
      "\n",
      "From: stephen.marquard@uct.ac.za\n",
      "\n",
      "From: louis@media.berkeley.edu\n",
      "\n",
      "From: louis@media.berkeley.edu\n",
      "\n",
      "From: ray@media.berkeley.edu\n",
      "\n",
      "From: cwen@iupui.edu\n",
      "\n",
      "From: cwen@iupui.edu\n",
      "\n",
      "From: cwen@iupui.edu\n",
      "\n"
     ]
    }
   ],
   "source": [
    "fhand = open(\"mbox_short.txt\")\n",
    "\n",
    "for line in fhand:\n",
    "    if line.startswith ('From:'):\n",
    "        print(line)\n",
    "\n"
   ]
  },
  {
   "cell_type": "code",
   "execution_count": 23,
   "id": "b775985d",
   "metadata": {},
   "outputs": [
    {
     "name": "stdout",
     "output_type": "stream",
     "text": [
      "From: stephen.marquard@uct.ac.za\n",
      "From: louis@media.berkeley.edu\n",
      "From: zqian@umich.edu\n",
      "From: rjlowe@iupui.edu\n",
      "From: zqian@umich.edu\n",
      "From: rjlowe@iupui.edu\n",
      "From: cwen@iupui.edu\n",
      "From: cwen@iupui.edu\n",
      "From: gsilver@umich.edu\n",
      "From: gsilver@umich.edu\n",
      "From: zqian@umich.edu\n",
      "From: gsilver@umich.edu\n",
      "From: wagnermr@iupui.edu\n",
      "From: zqian@umich.edu\n",
      "From: antranig@caret.cam.ac.uk\n",
      "From: gopal.ramasammycook@gmail.com\n",
      "From: david.horwitz@uct.ac.za\n",
      "From: david.horwitz@uct.ac.za\n",
      "From: david.horwitz@uct.ac.za\n",
      "From: david.horwitz@uct.ac.za\n",
      "From: stephen.marquard@uct.ac.za\n",
      "From: louis@media.berkeley.edu\n",
      "From: louis@media.berkeley.edu\n",
      "From: ray@media.berkeley.edu\n",
      "From: cwen@iupui.edu\n",
      "From: cwen@iupui.edu\n",
      "From: cwen@iupui.edu\n"
     ]
    }
   ],
   "source": [
    "fhand = open(\"mbox_short.txt\")\n",
    "\n",
    "for line in fhand:\n",
    "    line = line.rstrip()\n",
    "    if line.startswith ('From:'):\n",
    "        print(line)"
   ]
  },
  {
   "cell_type": "code",
   "execution_count": 31,
   "id": "0bca11b1",
   "metadata": {},
   "outputs": [
    {
     "name": "stdout",
     "output_type": "stream",
     "text": [
      "<_io.TextIOWrapper name='output.txt' mode='w' encoding='cp1252'>\n"
     ]
    }
   ],
   "source": [
    "file1 = open('output.txt', 'w')\n",
    "print(file1)\n",
    "line1 = \"some random text\"\n",
    "file1.write(line1)\n",
    "\n",
    "line2 = \"\\nsome other random text.\"\n",
    "file1.write(line2)\n",
    "\n",
    "file1.close()\n"
   ]
  },
  {
   "cell_type": "code",
   "execution_count": 5,
   "id": "7b325666",
   "metadata": {},
   "outputs": [
    {
     "name": "stdout",
     "output_type": "stream",
     "text": [
      "oranges\n",
      "apples\n",
      "bananas\n",
      "oranges\n",
      "apples\n",
      "pears\n",
      "bananas\n",
      "['oranges', 'apples', 'pears', 'bananas', 'grapes']\n",
      "['oranges', 'kiwi', 'apples', 'pears', 'bananas', 'grapes']\n",
      "['oranges', 'kiwi', 'pears', 'bananas', 'grapes']\n",
      "grapes\n",
      "['oranges', 'kiwi', 'pears', 'bananas']\n",
      "['bananas', 'kiwi', 'oranges', 'pears']\n",
      "4\n",
      "Oranges are in the list\n",
      "[1, 2, 3, 4, 5]\n",
      "['oranges', 1, 2.5, True]\n"
     ]
    }
   ],
   "source": [
    "fruits = ['oranges', 'apples', 'pears', 'bananas']\n",
    "print(fruits[0])\n",
    "print(fruits[1])\n",
    "print(fruits[-1])\n",
    "\n",
    "for fruit in fruits:\n",
    "    print(fruit)\n",
    "\n",
    "fruits.append('grapes')\n",
    "print(fruits)\n",
    "\n",
    "fruits.insert(1, 'kiwi')\n",
    "print(fruits)\n",
    "\n",
    "fruits.remove('apples')\n",
    "print(fruits)\n",
    "\n",
    "popped = fruits.pop()\n",
    "print(popped)\n",
    "print(fruits)   \n",
    "\n",
    "fruits.sort()\n",
    "print(fruits) \n",
    "\n",
    "print(len(fruits))\n",
    "\n",
    "if \"oranges\" in fruits:\n",
    "    print(\"Oranges are in the list\")\n",
    "else:\n",
    "    print(\"Oranges are not in the list\")\n",
    "\n",
    "\n",
    "\n",
    "numbers = [1, 2, 3, 4, 5]\n",
    "print(numbers)\n",
    "\n",
    "mixed_list = ['oranges', 1, 2.5, True]    \n",
    "print(mixed_list)\n"
   ]
  },
  {
   "cell_type": "markdown",
   "id": "30fdcbb6",
   "metadata": {},
   "source": [
    "Regular Expression\n"
   ]
  },
  {
   "cell_type": "code",
   "execution_count": 2,
   "id": "0eeb5989",
   "metadata": {},
   "outputs": [
    {
     "name": "stdout",
     "output_type": "stream",
     "text": [
      "Python\n"
     ]
    }
   ],
   "source": [
    "import re\n",
    "# re.match()\n",
    "\n",
    "result = re.match(r'Python', 'Python is an existing programmoing language.')\n",
    "print(result.group())\n",
    "\n",
    "\n"
   ]
  },
  {
   "cell_type": "code",
   "execution_count": 3,
   "id": "923be037",
   "metadata": {},
   "outputs": [
    {
     "name": "stdout",
     "output_type": "stream",
     "text": [
      "language\n"
     ]
    }
   ],
   "source": [
    "result = re.search(r'language', 'Pyhton is an existing programming language.')\n",
    "print(result.group())"
   ]
  },
  {
   "cell_type": "code",
   "execution_count": 6,
   "id": "be5fc06d",
   "metadata": {},
   "outputs": [
    {
     "name": "stdout",
     "output_type": "stream",
     "text": [
      "['0706298128']\n"
     ]
    }
   ],
   "source": [
    "result = re.findall(r'\\d+', 'My phone number is 0706298128.')\n",
    "print(result)"
   ]
  },
  {
   "cell_type": "code",
   "execution_count": 9,
   "id": "ba30cc88",
   "metadata": {},
   "outputs": [
    {
     "name": "stdout",
     "output_type": "stream",
     "text": [
      "I like oranges\n"
     ]
    }
   ],
   "source": [
    "text = re.sub(r'apples', 'oranges', 'I like apples')\n",
    "print(text)\n"
   ]
  },
  {
   "cell_type": "code",
   "execution_count": null,
   "id": "abf5d73d",
   "metadata": {},
   "outputs": [
    {
     "name": "stdout",
     "output_type": "stream",
     "text": [
      "['acb', 'a1b', 'a_b', 'axb']\n",
      "['good']\n",
      "['morning']\n",
      "['ll', 'lol', 'll']\n",
      "['lol']\n",
      "['color', 'colour', 'color']\n",
      "['123', '123', '123', '456']\n"
     ]
    }
   ],
   "source": [
    "# . (Dot)\n",
    "\n",
    "text = re.findall(r'a.b', 'acb a1b a_b axb')\n",
    "print(text)\n",
    "\n",
    "# ^ (Caret)\n",
    "\n",
    "text = re.findall(r'^good', 'goodmorning' )\n",
    "print(text)\n",
    "\n",
    "# $ (Dollar sign)\n",
    "\n",
    "text = re.findall(r'morning$', 'goodmorning' )\n",
    "print(text)\n",
    "\n",
    "# * (Asterisk)\n",
    "\n",
    "text = re.findall(r'lo*l', 'll lol lllo2' )\n",
    "print(text)\n",
    "\n",
    "# +(plus)\n",
    "\n",
    "text = re.findall(r'lo+l', 'll lol, lllo2' )\n",
    "print(text)\n",
    "\n",
    "# ? (question mark)(matches zero or one of the preceeding character)\n",
    "\n",
    "text = re.findall(r'colou?r', 'color colour collourr colore' )\n",
    "print(text)\n",
    "\n",
    "# {n}\n",
    "\n",
    "num = re.findall (r'\\d{3}', '12 1234 12345 123456')\n",
    "print(num)\n",
    "\n",
    "\n",
    "\n",
    "\n"
   ]
  },
  {
   "cell_type": "markdown",
   "id": "b69ce680",
   "metadata": {},
   "source": [
    "Character classes"
   ]
  },
  {
   "cell_type": "code",
   "execution_count": 49,
   "id": "16aaa8d9",
   "metadata": {},
   "outputs": [
    {
     "name": "stdout",
     "output_type": "stream",
     "text": [
      "['1234567890']\n",
      "['Phone No: ']\n"
     ]
    }
   ],
   "source": [
    "text = \"Phone No: 1234567890\"\n",
    "result = re.findall(r'\\d+', text)\n",
    "print(result)\n",
    "\n",
    "text = \"Phone No: 1234567890\"\n",
    "result = re.findall(r'\\D+', text)\n",
    "print(result)\n"
   ]
  },
  {
   "cell_type": "code",
   "execution_count": 58,
   "id": "0d882973",
   "metadata": {},
   "outputs": [
    {
     "name": "stdout",
     "output_type": "stream",
     "text": [
      "['Phone', 'No', '1234567890']\n",
      "[' ', ':', ' ', '?', '-', '*']\n",
      "[' ', ' ']\n",
      "['Phone', 'No:', '12?3-45_678*90']\n",
      "['']\n",
      "['']\n"
     ]
    }
   ],
   "source": [
    "# \\w \n",
    "\n",
    "text = \"Phone No: 1234567890\"\n",
    "result = re.findall(r'\\w+', text)\n",
    "print(result)\n",
    "\n",
    "\n",
    "# \\W\n",
    "\n",
    "text = \"Phone No: 12?3-45_678*90\"\n",
    "result = re.findall(r'\\W', text)\n",
    "print(result)\n",
    "\n",
    "# \\s\n",
    "\n",
    "text = \"Phone No: 12?3-45_678*90\"\n",
    "result = re.findall(r'\\s', text)\n",
    "print(result)\n",
    "\n",
    "# \\S\n",
    "\n",
    "text = \"Phone No: 12?3-45_678*90\"\n",
    "result = re.findall(r'\\S+', text)\n",
    "print(result)\n",
    "\n",
    "# \\Z\n",
    "\n",
    "text = \"Phone No: 12?3-45_678*90\"\n",
    "result = re.findall(r'\\Z', text)\n",
    "print(result)\n",
    "\n",
    "# \\A\n",
    "\n",
    "text = \"Phone No: 12?3-45_678*90\"\n",
    "result = re.findall(r'\\A', text)\n",
    "print(result)"
   ]
  },
  {
   "cell_type": "markdown",
   "id": "c707626e",
   "metadata": {},
   "source": [
    "Look Ahead"
   ]
  },
  {
   "cell_type": "code",
   "execution_count": 64,
   "id": "415f27de",
   "metadata": {},
   "outputs": [
    {
     "name": "stdout",
     "output_type": "stream",
     "text": [
      "['Python3', 'Java17', 'C++18']\n",
      "['416000']\n"
     ]
    }
   ],
   "source": [
    "text =  \"Python3 Java17 C++18\"\n",
    "result = re.findall(r'\\S+(?!=\\d)', text)\n",
    "print(result)\n",
    "\n",
    "text = \"KES416000 USD1000\"\n",
    "result = re.findall(r'(?<=KES)\\d+', text)\n",
    "print(result)\n",
    "\n"
   ]
  },
  {
   "cell_type": "code",
   "execution_count": 73,
   "id": "423e3f11",
   "metadata": {},
   "outputs": [
    {
     "name": "stdout",
     "output_type": "stream",
     "text": [
      "False\n"
     ]
    }
   ],
   "source": [
    "pattern = r'^[\\w\\.-]+@[\\w\\.]=\\w+$'\n",
    "email = 'sample.email@example.com'\n",
    "print(bool(re.match(pattern, email)))\n",
    "\n"
   ]
  },
  {
   "cell_type": "code",
   "execution_count": 71,
   "id": "02378d20",
   "metadata": {},
   "outputs": [
    {
     "name": "stdout",
     "output_type": "stream",
     "text": [
      "['https://www.example.com', 'https://example.org']\n"
     ]
    }
   ],
   "source": [
    "text = \"Visit us at https://www.example.com or https://example.org\"\n",
    "urls = re.findall(r'https?://\\S+', text)\n",
    "print(urls)"
   ]
  },
  {
   "cell_type": "markdown",
   "id": "cb06e5d2",
   "metadata": {},
   "source": [
    "Characters"
   ]
  },
  {
   "cell_type": "code",
   "execution_count": 76,
   "id": "365d6c31",
   "metadata": {},
   "outputs": [
    {
     "name": "stdout",
     "output_type": "stream",
     "text": [
      "The string is valid and contains only a-z, A-Z, and 0-9.\n"
     ]
    }
   ],
   "source": [
    "import re\n",
    "\n",
    "def is_valid_string(input_string):\n",
    "    pattern = r'^[a-zA-Z0-9]+$'\n",
    "    \n",
    "    if re.match(pattern, input_string):\n",
    "        return True\n",
    "    else:\n",
    "        return False\n",
    "\n",
    "user_input = input(\"Enter a string: \")\n",
    "\n",
    "if is_valid_string(user_input):\n",
    "    print(\"The string is valid and contains only a-z, A-Z, and 0-9.\")\n",
    "else:\n",
    "    print(\"The string is invalid. It contains characters outside the allowed set.\")"
   ]
  },
  {
   "cell_type": "markdown",
   "id": "c691542e",
   "metadata": {},
   "source": [
    "Password validation"
   ]
  },
  {
   "cell_type": "code",
   "execution_count": 74,
   "id": "a5f814e3",
   "metadata": {},
   "outputs": [
    {
     "name": "stdout",
     "output_type": "stream",
     "text": [
      "Password is valid.\n"
     ]
    }
   ],
   "source": [
    "import re\n",
    "\n",
    "def validate_password(password):\n",
    "    pattern = r'^(?=.*[a-z])(?=.*[A-Z])(?=.*\\d)(?=.*[@$!%*?&])[A-Za-z\\d@$!%*?&]{8,}$'\n",
    "    \n",
    "    if re.match(pattern, password):\n",
    "        return True\n",
    "    else:\n",
    "        return False\n",
    "\n",
    "user_password = input(\"Enter your password: \")\n",
    "\n",
    "if validate_password(user_password):\n",
    "    print(\"Password is valid.\")\n",
    "else:\n",
    "    print(\"Password is invalid. It must be at least 8 characters long, contain at least one uppercase letter, one lowercase letter, one digit, and one special character.\")"
   ]
  },
  {
   "cell_type": "markdown",
   "id": "afec1986",
   "metadata": {},
   "source": [
    "Validate date format\n"
   ]
  },
  {
   "cell_type": "code",
   "execution_count": null,
   "id": "85347306",
   "metadata": {},
   "outputs": [],
   "source": [
    "import re\n",
    "from datetime import datetime\n",
    "\n",
    "def is_valid_date(date_string):\n",
    "    pattern = r'^(0[1-9]|[12][0-9]|3[01])/(0[1-9]|1[0-2])/\\d{4}$'\n",
    "    \n",
    "    if re.match(pattern, date_string):\n",
    "        try:\n",
    "            day, month, year = map(int, date_string.split('/'))\n",
    "            datetime(year, month, day)  \n",
    "            return True\n",
    "        except ValueError:\n",
    "            return False\n",
    "    else:\n",
    "        return False\n",
    "\n",
    "# Get user input\n",
    "user_date = input(\"Enter a date (DD/MM/YYYY): \")\n",
    "\n",
    "if is_valid_date(user_date):\n",
    "    print(\"The date is valid.\")\n",
    "else:\n",
    "    print(\"The date is invalid. Please enter a date in the format DD/MM/YYYY.\")"
   ]
  },
  {
   "cell_type": "markdown",
   "id": "63dd3d34",
   "metadata": {},
   "source": [
    "Use of regex to extract specific information"
   ]
  },
  {
   "cell_type": "code",
   "execution_count": 80,
   "id": "47b23953",
   "metadata": {},
   "outputs": [
    {
     "name": "stdout",
     "output_type": "stream",
     "text": [
      "Extracted Email Addresses:\n",
      "example1@test.com\n",
      "example2@test.co.uk\n",
      "\n",
      "Extracted Phone Numbers:\n",
      "123-456-7890\n",
      "987-654-3210\n"
     ]
    }
   ],
   "source": [
    "import re\n",
    "\n",
    "def extract_emails(text):\n",
    "    email_pattern = r'[a-zA-Z0-9._%+-]+@[a-zA-Z0-9.-]+\\.[a-zA-Z]{2,}'\n",
    "    emails = re.findall(email_pattern, text)\n",
    "    return emails\n",
    "\n",
    "def extract_phone_numbers(text):\n",
    "    phone_pattern = r'\\b\\d{3}-\\d{3}-\\d{4}\\b'\n",
    "    phone_numbers = re.findall(phone_pattern, text)\n",
    "    return phone_numbers\n",
    "\n",
    "input_string = \"\"\"\n",
    "    example1@test.com, example2@test.co.uk, and invalid@.com.\n",
    "     123-456-7890, 987-654-3210, and 123-45-6789.\n",
    "\"\"\"\n",
    "\n",
    "emails = extract_emails(input_string)\n",
    "phone_numbers = extract_phone_numbers(input_string)\n",
    "\n",
    "print(\"Extracted Email Addresses:\")\n",
    "for email in emails:\n",
    "    print(email)\n",
    "\n",
    "print(\"\\nExtracted Phone Numbers:\")\n",
    "for phone in phone_numbers:\n",
    "    print(phone)"
   ]
  },
  {
   "cell_type": "markdown",
   "id": "d7640225",
   "metadata": {},
   "source": [
    "Replace text\n"
   ]
  },
  {
   "cell_type": "code",
   "execution_count": 78,
   "id": "1264e1c5",
   "metadata": {},
   "outputs": [
    {
     "name": "stdout",
     "output_type": "stream",
     "text": [
      "Updated String:\n",
      "\n",
      "Ms. Dubow is a software engineer. Ms. Randy is a project manager.\n",
      "Ms. Wahome is a data analyst. They all work at the same company.\n",
      "\n"
     ]
    }
   ],
   "source": [
    "import re\n",
    "\n",
    "def replace_text(text, old, new):\n",
    "    updated_text = re.sub(old, new, text)\n",
    "    return updated_text\n",
    "\n",
    "input_string = \"\"\"\n",
    "Mr. Dubow is a software engineer. Mr. Randy is a project manager.\n",
    "Mr. Wahome is a data analyst. They all work at the same company.\n",
    "\"\"\"\n",
    "\n",
    "old_text = r'Mr\\.'  \n",
    "new_text = 'Ms.'\n",
    "\n",
    "result_string = replace_text(input_string, old_text, new_text)\n",
    "\n",
    "print(\"Updated String:\")\n",
    "print(result_string)"
   ]
  }
 ],
 "metadata": {
  "kernelspec": {
   "display_name": "virtual",
   "language": "python",
   "name": "python3"
  },
  "language_info": {
   "codemirror_mode": {
    "name": "ipython",
    "version": 3
   },
   "file_extension": ".py",
   "mimetype": "text/x-python",
   "name": "python",
   "nbconvert_exporter": "python",
   "pygments_lexer": "ipython3",
   "version": "3.13.2"
  }
 },
 "nbformat": 4,
 "nbformat_minor": 5
}
