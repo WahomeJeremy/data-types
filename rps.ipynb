{
 "cells": [
  {
   "cell_type": "markdown",
   "id": "fc4cea26",
   "metadata": {},
   "source": [
    "Rock, Paper, Scissors\n"
   ]
  },
  {
   "cell_type": "code",
   "execution_count": 1,
   "id": "97340b94",
   "metadata": {},
   "outputs": [
    {
     "name": "stdout",
     "output_type": "stream",
     "text": [
      "Welcome to Rock, Paper, Scissors!\n",
      "Type 'quit' to stop playing.\n",
      "\n",
      "Computer chose paper.\n",
      "Computer wins!\n",
      "Score -> You: 0 | Computer: 1\n",
      "\n",
      "Computer chose paper.\n",
      "DRAW\n",
      "Score -> You: 0 | Computer: 1\n",
      "\n",
      "Computer chose rock.\n",
      "DRAW\n",
      "Score -> You: 0 | Computer: 1\n",
      "\n",
      "Computer chose rock.\n",
      "DRAW\n",
      "Score -> You: 0 | Computer: 1\n",
      "\n",
      "Computer chose paper.\n",
      "Computer wins!\n",
      "Score -> You: 0 | Computer: 2\n",
      "\n",
      "Computer chose rock.\n",
      "Computer wins!\n",
      "Score -> You: 0 | Computer: 3\n",
      "\n",
      "Computer chose paper.\n",
      "Computer wins!\n",
      "Score -> You: 0 | Computer: 4\n",
      "\n",
      "Invalid choice. Try again.\n",
      "\n",
      "Final Scores:\n",
      "You: 0, Computer: 4\n"
     ]
    }
   ],
   "source": [
    "import random\n",
    "\n",
    "def play_game():\n",
    "    options = [\"rock\", \"paper\", \"scissors\"]\n",
    "    user_score = 0\n",
    "    computer_score = 0\n",
    "\n",
    "    print(\"Welcome to Rock, Paper, Scissors!\")\n",
    "    print(\"Type 'quit' to stop playing.\\n\")\n",
    "\n",
    "    while True:\n",
    "        user_choice = input(\"Choose rock, paper, or scissors: \").lower()\n",
    "        if user_choice == \"quit\":\n",
    "            print(\"\\nFinal Scores:\")\n",
    "            print(f\"You: {user_score}, Computer: {computer_score}\")\n",
    "            break\n",
    "        if user_choice not in options:\n",
    "            print(\"Invalid choice. Try again.\")\n",
    "            continue\n",
    "\n",
    "        computer_choice = random.choice(options)\n",
    "        print(f\"Computer chose {computer_choice}.\")\n",
    "\n",
    "        if user_choice == computer_choice:\n",
    "            print(\"DRAW\")\n",
    "        elif (\n",
    "            (user_choice == \"rock\" and computer_choice == \"scissors\") or\n",
    "            (user_choice == \"paper\" and computer_choice == \"rock\") or\n",
    "            (user_choice == \"scissors\" and computer_choice == \"paper\")\n",
    "        ):\n",
    "            print(\"WINNER\")\n",
    "            user_score += 1\n",
    "        else:\n",
    "            print(\"Computer wins!\")\n",
    "            computer_score += 1\n",
    "\n",
    "        print(f\"Score -> You: {user_score} | Computer: {computer_score}\\n\")\n",
    "\n",
    "play_game()"
   ]
  }
 ],
 "metadata": {
  "kernelspec": {
   "display_name": "virtual",
   "language": "python",
   "name": "python3"
  },
  "language_info": {
   "codemirror_mode": {
    "name": "ipython",
    "version": 3
   },
   "file_extension": ".py",
   "mimetype": "text/x-python",
   "name": "python",
   "nbconvert_exporter": "python",
   "pygments_lexer": "ipython3",
   "version": "3.13.2"
  }
 },
 "nbformat": 4,
 "nbformat_minor": 5
}
